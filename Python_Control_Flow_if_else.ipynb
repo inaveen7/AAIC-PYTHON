{
 "cells": [
  {
   "cell_type": "markdown",
   "id": "3f023417",
   "metadata": {},
   "source": [
    "# Python if Statement\n"
   ]
  },
  {
   "cell_type": "markdown",
   "id": "d28aafc8",
   "metadata": {},
   "source": [
    "if...elif...else statements are used in python for decision making.\n",
    "\n",
    "Python interprets non-zero value as True. None and 0 as False."
   ]
  },
  {
   "cell_type": "markdown",
   "id": "60ffe2e5",
   "metadata": {},
   "source": [
    "# if statement syntax"
   ]
  },
  {
   "cell_type": "raw",
   "id": "4806c069",
   "metadata": {},
   "source": [
    "if test expression:\n",
    "    statement (s)"
   ]
  },
  {
   "cell_type": "code",
   "execution_count": null,
   "id": "b53902b9",
   "metadata": {},
   "outputs": [],
   "source": []
  },
  {
   "cell_type": "code",
   "execution_count": 1,
   "id": "d0d6d664",
   "metadata": {},
   "outputs": [
    {
     "name": "stdout",
     "output_type": "stream",
     "text": [
      "This will execute always and doesn't depend on if condition.\n"
     ]
    }
   ],
   "source": [
    "# Simple Example for if\n",
    "\n",
    "num = 10\n",
    "if num > 10:                    # condition fails\n",
    "    print(\"The number is grater than 10\")\n",
    "print(\"This will execute always and doesn't depend on if condition.\") # condition fails, and this will be executed.\n"
   ]
  },
  {
   "cell_type": "code",
   "execution_count": null,
   "id": "00d92a70",
   "metadata": {},
   "outputs": [],
   "source": []
  },
  {
   "cell_type": "code",
   "execution_count": 2,
   "id": "31096a19",
   "metadata": {},
   "outputs": [
    {
     "name": "stdout",
     "output_type": "stream",
     "text": [
      "number is equal to 10\n",
      "This will execute always and doesn't depend on if condition.\n"
     ]
    }
   ],
   "source": [
    "# True conditon example\n",
    "\n",
    "if num == 10:\n",
    "    print(\"number is equal to 10\")\n",
    "print(\"This will execute always and doesn't depend on if condition.\") # this will printed after the if condition.\n"
   ]
  },
  {
   "cell_type": "code",
   "execution_count": null,
   "id": "23b02de5",
   "metadata": {},
   "outputs": [],
   "source": []
  },
  {
   "cell_type": "raw",
   "id": "7c685882",
   "metadata": {},
   "source": [
    "-> Pyhthon interprets non-zero values as True.\n",
    "\n",
    "   None and 0 are interpreted as False."
   ]
  },
  {
   "cell_type": "code",
   "execution_count": null,
   "id": "9a45fc33",
   "metadata": {},
   "outputs": [],
   "source": []
  },
  {
   "cell_type": "raw",
   "id": "4f0ea12c",
   "metadata": {},
   "source": [
    "0, None, False                                   ----> False\n",
    "\n",
    "any negative value (-1.-10.-100.... etc), True   -----> True"
   ]
  },
  {
   "cell_type": "code",
   "execution_count": null,
   "id": "a4ad6208",
   "metadata": {},
   "outputs": [],
   "source": []
  },
  {
   "cell_type": "code",
   "execution_count": 3,
   "id": "39ee0a13",
   "metadata": {},
   "outputs": [
    {
     "name": "stdout",
     "output_type": "stream",
     "text": [
      "This will print always.\n"
     ]
    }
   ],
   "source": [
    "# example for 0, None, False\n",
    "\n",
    "if None:\n",
    "    print(\"This is for True condition.\")  # False\n",
    "print(\"This will print always.\")    "
   ]
  },
  {
   "cell_type": "code",
   "execution_count": null,
   "id": "dfad01fe",
   "metadata": {},
   "outputs": [],
   "source": []
  },
  {
   "cell_type": "code",
   "execution_count": 4,
   "id": "428f8ee1",
   "metadata": {},
   "outputs": [
    {
     "name": "stdout",
     "output_type": "stream",
     "text": [
      "This will print always.\n"
     ]
    }
   ],
   "source": [
    "if 0:\n",
    "    print(\"This is for True condition.\") # False\n",
    "print(\"This will print always.\")    "
   ]
  },
  {
   "cell_type": "code",
   "execution_count": null,
   "id": "b25c3570",
   "metadata": {},
   "outputs": [],
   "source": []
  },
  {
   "cell_type": "code",
   "execution_count": 6,
   "id": "f88f9ea9",
   "metadata": {},
   "outputs": [
    {
     "name": "stdout",
     "output_type": "stream",
     "text": [
      "This will print always.\n"
     ]
    }
   ],
   "source": [
    "if False:\n",
    "    print('This is for True condition')  # False\n",
    "print(\"This will print always.\")    "
   ]
  },
  {
   "cell_type": "code",
   "execution_count": null,
   "id": "0c57e5f6",
   "metadata": {},
   "outputs": [],
   "source": []
  },
  {
   "cell_type": "code",
   "execution_count": null,
   "id": "2cb37b1e",
   "metadata": {},
   "outputs": [],
   "source": []
  },
  {
   "cell_type": "code",
   "execution_count": 9,
   "id": "8a9d9013",
   "metadata": {},
   "outputs": [
    {
     "name": "stdout",
     "output_type": "stream",
     "text": [
      "This is for True condition\n",
      "This will print always\n"
     ]
    }
   ],
   "source": [
    "# Example for any non-negative numbers (-1, -10,-10...etc.) , True\n",
    "\n",
    "if -1:\n",
    "    print(\"This is for True condition\") # True, this will be printed\n",
    "print(\"This will print always\")    "
   ]
  },
  {
   "cell_type": "code",
   "execution_count": null,
   "id": "5063f80a",
   "metadata": {},
   "outputs": [],
   "source": []
  },
  {
   "cell_type": "code",
   "execution_count": 10,
   "id": "369c755f",
   "metadata": {},
   "outputs": [
    {
     "name": "stdout",
     "output_type": "stream",
     "text": [
      "This is for True condition\n",
      "This will print always\n"
     ]
    }
   ],
   "source": [
    "if -100:\n",
    "    print(\"This is for True condition\") # True, this will be printed\n",
    "print(\"This will print always\")   "
   ]
  },
  {
   "cell_type": "code",
   "execution_count": null,
   "id": "29189245",
   "metadata": {},
   "outputs": [],
   "source": []
  },
  {
   "cell_type": "code",
   "execution_count": 11,
   "id": "241ec6bc",
   "metadata": {},
   "outputs": [
    {
     "name": "stdout",
     "output_type": "stream",
     "text": [
      "This is for True condition\n",
      "This will print always\n"
     ]
    }
   ],
   "source": [
    "if True:\n",
    "    print(\"This is for True condition\") # True, this will be printed\n",
    "print(\"This will print always\")   "
   ]
  },
  {
   "cell_type": "code",
   "execution_count": null,
   "id": "86d08845",
   "metadata": {},
   "outputs": [],
   "source": []
  },
  {
   "cell_type": "code",
   "execution_count": null,
   "id": "5779289a",
   "metadata": {},
   "outputs": [],
   "source": []
  },
  {
   "cell_type": "markdown",
   "id": "c8fcff7e",
   "metadata": {},
   "source": [
    "# if...else statement"
   ]
  },
  {
   "cell_type": "markdown",
   "id": "826f42fd",
   "metadata": {},
   "source": [
    "# syntax"
   ]
  },
  {
   "cell_type": "raw",
   "id": "4ead9440",
   "metadata": {},
   "source": [
    "if test expression:\n",
    "    body of if\n",
    "    \n",
    "else:\n",
    "    body of else\n",
    "    "
   ]
  },
  {
   "cell_type": "code",
   "execution_count": 12,
   "id": "7b71aa69",
   "metadata": {},
   "outputs": [
    {
     "name": "stdout",
     "output_type": "stream",
     "text": [
      "Positive number\n"
     ]
    }
   ],
   "source": [
    "# Example \n",
    "\n",
    "num = 10\n",
    "\n",
    "if num > 0:\n",
    "    print(\"Positive number\")\n",
    "else:\n",
    "    print(\"Negative number\")"
   ]
  },
  {
   "cell_type": "code",
   "execution_count": null,
   "id": "df14077c",
   "metadata": {},
   "outputs": [],
   "source": []
  },
  {
   "cell_type": "code",
   "execution_count": null,
   "id": "9dda54ea",
   "metadata": {},
   "outputs": [],
   "source": []
  },
  {
   "cell_type": "markdown",
   "id": "41312390",
   "metadata": {},
   "source": [
    "# if...elif...else statement"
   ]
  },
  {
   "cell_type": "markdown",
   "id": "116b461a",
   "metadata": {},
   "source": [
    "# syntax"
   ]
  },
  {
   "cell_type": "raw",
   "id": "4373321a",
   "metadata": {},
   "source": [
    "if test expresson:\n",
    "    body of if\n",
    "    \n",
    "elif test expression:\n",
    "    body of elif\n",
    "    \n",
    "else:\n",
    "    body of else"
   ]
  },
  {
   "cell_type": "code",
   "execution_count": null,
   "id": "bfea14fd",
   "metadata": {},
   "outputs": [],
   "source": []
  },
  {
   "cell_type": "code",
   "execution_count": 13,
   "id": "fb1f7995",
   "metadata": {},
   "outputs": [
    {
     "name": "stdout",
     "output_type": "stream",
     "text": [
      "Positive number\n"
     ]
    }
   ],
   "source": [
    "# Example \n",
    "\n",
    "num =10\n",
    "\n",
    "if num > 0:\n",
    "    print('Positive number')\n",
    "    \n",
    "elif num == 0:\n",
    "    print('ZERO')\n",
    "\n",
    "else:\n",
    "    print(\"Negative number\")"
   ]
  },
  {
   "cell_type": "code",
   "execution_count": null,
   "id": "2e2be41e",
   "metadata": {},
   "outputs": [],
   "source": []
  },
  {
   "cell_type": "code",
   "execution_count": 17,
   "id": "522923c7",
   "metadata": {},
   "outputs": [
    {
     "name": "stdout",
     "output_type": "stream",
     "text": [
      "ZERO\n"
     ]
    }
   ],
   "source": [
    "num = 0\n",
    "\n",
    "if num > 0:\n",
    "    print('Positive number')\n",
    "    \n",
    "elif num == 0:\n",
    "    print(\"ZERO\")\n",
    "    \n",
    "else:\n",
    "    print(\"Negative number\")\n",
    "    "
   ]
  },
  {
   "cell_type": "code",
   "execution_count": null,
   "id": "f7a0447c",
   "metadata": {},
   "outputs": [],
   "source": []
  },
  {
   "cell_type": "code",
   "execution_count": null,
   "id": "c9b59fd2",
   "metadata": {},
   "outputs": [],
   "source": []
  },
  {
   "cell_type": "markdown",
   "id": "fa46c0e3",
   "metadata": {},
   "source": [
    "# Nested if statements"
   ]
  },
  {
   "cell_type": "raw",
   "id": "f78fa939",
   "metadata": {},
   "source": [
    "-> We can have a if...elif...else statement inside an if... elif...else statement.\n",
    "\n",
    "   This is called nesting in computer programming."
   ]
  },
  {
   "cell_type": "code",
   "execution_count": null,
   "id": "b62c5094",
   "metadata": {},
   "outputs": [],
   "source": []
  },
  {
   "cell_type": "code",
   "execution_count": 18,
   "id": "cad2ab2e",
   "metadata": {},
   "outputs": [
    {
     "name": "stdout",
     "output_type": "stream",
     "text": [
      "Positive number\n"
     ]
    }
   ],
   "source": [
    "# Example :\n",
    "\n",
    "num = 10.5\n",
    "\n",
    "if num >= 0:\n",
    "    if num == 0:      # Nested if statement\n",
    "        print('ZERO')\n",
    "    else:             # Nested else statement\n",
    "        print(\"Positive number\")\n",
    "        \n",
    "else:\n",
    "    print(\"Negative number\")"
   ]
  },
  {
   "cell_type": "code",
   "execution_count": null,
   "id": "ca1fbc1b",
   "metadata": {},
   "outputs": [],
   "source": []
  },
  {
   "cell_type": "code",
   "execution_count": null,
   "id": "b0068e29",
   "metadata": {},
   "outputs": [],
   "source": []
  },
  {
   "cell_type": "code",
   "execution_count": 21,
   "id": "b9708be9",
   "metadata": {},
   "outputs": [
    {
     "name": "stdout",
     "output_type": "stream",
     "text": [
      "The Largest element among Three numbers is: 50\n"
     ]
    }
   ],
   "source": [
    "# Python Program to find the Largest element among Three numbers\n",
    "\n",
    "num1 = 10\n",
    "num2 = 50\n",
    "num3 = 20\n",
    "\n",
    "if (num1 >= num2) and (num1 >= num3):\n",
    "    lagest = num1\n",
    "    \n",
    "elif (num2 >= num1) and (num2 >= num3):\n",
    "    lagest = num2\n",
    "    \n",
    "else:\n",
    "    lagest = num3\n",
    "    \n",
    "    \n",
    "print(\"The Largest element among Three numbers is: {}\".format(lagest))    "
   ]
  },
  {
   "cell_type": "code",
   "execution_count": null,
   "id": "ed0f127c",
   "metadata": {},
   "outputs": [],
   "source": []
  },
  {
   "cell_type": "code",
   "execution_count": null,
   "id": "97b98260",
   "metadata": {},
   "outputs": [],
   "source": []
  },
  {
   "cell_type": "code",
   "execution_count": null,
   "id": "1f1e38ca",
   "metadata": {},
   "outputs": [],
   "source": []
  }
 ],
 "metadata": {
  "kernelspec": {
   "display_name": "Python 3",
   "language": "python",
   "name": "python3"
  },
  "language_info": {
   "codemirror_mode": {
    "name": "ipython",
    "version": 3
   },
   "file_extension": ".py",
   "mimetype": "text/x-python",
   "name": "python",
   "nbconvert_exporter": "python",
   "pygments_lexer": "ipython3",
   "version": "3.6.13"
  }
 },
 "nbformat": 4,
 "nbformat_minor": 5
}
