{
 "cells": [
  {
   "cell_type": "code",
   "execution_count": 2,
   "id": "9c09ad73",
   "metadata": {},
   "outputs": [
    {
     "ename": "KeyboardInterrupt",
     "evalue": "Interrupted by user",
     "output_type": "error",
     "traceback": [
      "\u001b[1;31m---------------------------------------------------------------------------\u001b[0m",
      "\u001b[1;31mKeyboardInterrupt\u001b[0m                         Traceback (most recent call last)",
      "\u001b[1;32m<ipython-input-2-fb8e3401e4dd>\u001b[0m in \u001b[0;36m<module>\u001b[1;34m\u001b[0m\n\u001b[0;32m      2\u001b[0m \u001b[1;33m\u001b[0m\u001b[0m\n\u001b[0;32m      3\u001b[0m \u001b[1;31m# Taking input from console\u001b[0m\u001b[1;33m\u001b[0m\u001b[1;33m\u001b[0m\u001b[1;33m\u001b[0m\u001b[0m\n\u001b[1;32m----> 4\u001b[1;33m \u001b[0mindex1\u001b[0m \u001b[1;33m=\u001b[0m \u001b[0mint\u001b[0m\u001b[1;33m(\u001b[0m\u001b[0minput\u001b[0m\u001b[1;33m(\u001b[0m\u001b[1;34m\"enter stating range number:\"\u001b[0m\u001b[1;33m)\u001b[0m\u001b[1;33m)\u001b[0m\u001b[1;33m\u001b[0m\u001b[1;33m\u001b[0m\u001b[0m\n\u001b[0m\u001b[0;32m      5\u001b[0m \u001b[0mindex2\u001b[0m \u001b[1;33m=\u001b[0m \u001b[0mint\u001b[0m\u001b[1;33m(\u001b[0m\u001b[0minput\u001b[0m\u001b[1;33m(\u001b[0m\u001b[1;34m\"enter end range index:\"\u001b[0m\u001b[1;33m)\u001b[0m\u001b[1;33m)\u001b[0m\u001b[1;33m\u001b[0m\u001b[1;33m\u001b[0m\u001b[0m\n\u001b[0;32m      6\u001b[0m \u001b[1;33m\u001b[0m\u001b[0m\n",
      "\u001b[1;32m~\\Anaconda3\\lib\\site-packages\\ipykernel\\kernelbase.py\u001b[0m in \u001b[0;36mraw_input\u001b[1;34m(self, prompt)\u001b[0m\n\u001b[0;32m    861\u001b[0m             \u001b[0mself\u001b[0m\u001b[1;33m.\u001b[0m\u001b[0m_parent_ident\u001b[0m\u001b[1;33m,\u001b[0m\u001b[1;33m\u001b[0m\u001b[1;33m\u001b[0m\u001b[0m\n\u001b[0;32m    862\u001b[0m             \u001b[0mself\u001b[0m\u001b[1;33m.\u001b[0m\u001b[0m_parent_header\u001b[0m\u001b[1;33m,\u001b[0m\u001b[1;33m\u001b[0m\u001b[1;33m\u001b[0m\u001b[0m\n\u001b[1;32m--> 863\u001b[1;33m             \u001b[0mpassword\u001b[0m\u001b[1;33m=\u001b[0m\u001b[1;32mFalse\u001b[0m\u001b[1;33m,\u001b[0m\u001b[1;33m\u001b[0m\u001b[1;33m\u001b[0m\u001b[0m\n\u001b[0m\u001b[0;32m    864\u001b[0m         )\n\u001b[0;32m    865\u001b[0m \u001b[1;33m\u001b[0m\u001b[0m\n",
      "\u001b[1;32m~\\Anaconda3\\lib\\site-packages\\ipykernel\\kernelbase.py\u001b[0m in \u001b[0;36m_input_request\u001b[1;34m(self, prompt, ident, parent, password)\u001b[0m\n\u001b[0;32m    902\u001b[0m             \u001b[1;32mexcept\u001b[0m \u001b[0mKeyboardInterrupt\u001b[0m\u001b[1;33m:\u001b[0m\u001b[1;33m\u001b[0m\u001b[1;33m\u001b[0m\u001b[0m\n\u001b[0;32m    903\u001b[0m                 \u001b[1;31m# re-raise KeyboardInterrupt, to truncate traceback\u001b[0m\u001b[1;33m\u001b[0m\u001b[1;33m\u001b[0m\u001b[1;33m\u001b[0m\u001b[0m\n\u001b[1;32m--> 904\u001b[1;33m                 \u001b[1;32mraise\u001b[0m \u001b[0mKeyboardInterrupt\u001b[0m\u001b[1;33m(\u001b[0m\u001b[1;34m\"Interrupted by user\"\u001b[0m\u001b[1;33m)\u001b[0m \u001b[1;32mfrom\u001b[0m \u001b[1;32mNone\u001b[0m\u001b[1;33m\u001b[0m\u001b[1;33m\u001b[0m\u001b[0m\n\u001b[0m\u001b[0;32m    905\u001b[0m             \u001b[1;32mexcept\u001b[0m \u001b[0mException\u001b[0m \u001b[1;32mas\u001b[0m \u001b[0me\u001b[0m\u001b[1;33m:\u001b[0m\u001b[1;33m\u001b[0m\u001b[1;33m\u001b[0m\u001b[0m\n\u001b[0;32m    906\u001b[0m                 \u001b[0mself\u001b[0m\u001b[1;33m.\u001b[0m\u001b[0mlog\u001b[0m\u001b[1;33m.\u001b[0m\u001b[0mwarning\u001b[0m\u001b[1;33m(\u001b[0m\u001b[1;34m\"Invalid Message:\"\u001b[0m\u001b[1;33m,\u001b[0m \u001b[0mexc_info\u001b[0m\u001b[1;33m=\u001b[0m\u001b[1;32mTrue\u001b[0m\u001b[1;33m)\u001b[0m\u001b[1;33m\u001b[0m\u001b[1;33m\u001b[0m\u001b[0m\n",
      "\u001b[1;31mKeyboardInterrupt\u001b[0m: Interrupted by user"
     ]
    }
   ],
   "source": [
    "# python program to print all the prime numbers in a given range\n",
    "\n",
    "# Taking input from console\n",
    "index1 = int(input(\"enter stating range number:\"))\n",
    "index2 = int(input(\"enter end range index:\"))\n",
    "\n",
    "# Teaversal through range\n",
    "\n",
    "                \n",
    "\n",
    "for num in range(index1, index2+1):     # exclusive of the end. So we put +1 for last index\n",
    "    if num > 1:\n",
    "        isDivisible = False;\n",
    "        for index in range(2, num):\n",
    "            if num % index == 0:\n",
    "                isDivisible = True;\n",
    "        if not isDivisible:        \n",
    "            print(num);\n",
    "                    \n"
   ]
  },
  {
   "cell_type": "code",
   "execution_count": null,
   "id": "25faa588",
   "metadata": {},
   "outputs": [],
   "source": [
    "print(\"The prime numbers between {0} and {1} are\".format(index1,index2))\n",
    "for num in range(index1, index2+1):\n",
    "    if num > 1:\n",
    "        isDivisible = False;\n",
    "        for index in range (2,num):\n",
    "            if num % index == 0:\n",
    "                isDivisible = True;\n",
    "        if not isDivisible:\n",
    "            print(num);"
   ]
  },
  {
   "cell_type": "code",
   "execution_count": null,
   "id": "c0a49879",
   "metadata": {},
   "outputs": [],
   "source": []
  },
  {
   "cell_type": "code",
   "execution_count": null,
   "id": "d21f2ec6",
   "metadata": {},
   "outputs": [],
   "source": []
  },
  {
   "cell_type": "code",
   "execution_count": null,
   "id": "17ebe67a",
   "metadata": {},
   "outputs": [],
   "source": []
  },
  {
   "cell_type": "code",
   "execution_count": null,
   "id": "6c95997f",
   "metadata": {},
   "outputs": [],
   "source": [
    "for num in range(2,5):\n",
    "    print(num)\n",
    "print(\"\\n\\n\")    \n",
    "for ele in range(2,5+1):\n",
    "    print(ele)\n",
    "    "
   ]
  },
  {
   "cell_type": "code",
   "execution_count": null,
   "id": "1e329b8c",
   "metadata": {},
   "outputs": [],
   "source": []
  },
  {
   "cell_type": "code",
   "execution_count": null,
   "id": "894bd01f",
   "metadata": {},
   "outputs": [],
   "source": [
    "index1 = 10\n",
    "index2 = 50\n",
    "print(\"The prime numbers between {0} and {1} are\".format(index1,index2))\n",
    "for num in range(index1, index2+1):\n",
    "    if num > 1:\n",
    "        isDivisible = False;\n",
    "        for index in range (2,num):\n",
    "            if num % index == 0:\n",
    "                isDivisible = True;\n",
    "        if not isDivisible:\n",
    "            print(num);"
   ]
  },
  {
   "cell_type": "markdown",
   "id": "f4afbddc",
   "metadata": {},
   "source": [
    "# Python for Data Science : Data Structures"
   ]
  },
  {
   "cell_type": "markdown",
   "id": "97cb9b31",
   "metadata": {},
   "source": [
    "# Lists:-"
   ]
  },
  {
   "cell_type": "code",
   "execution_count": null,
   "id": "b4e5ad62",
   "metadata": {},
   "outputs": [],
   "source": [
    "lst3 = [[1,2],[3,4]]\n",
    "for i in lst3:\n",
    "    print(i)"
   ]
  },
  {
   "cell_type": "code",
   "execution_count": null,
   "id": "cc1b0056",
   "metadata": {},
   "outputs": [],
   "source": [
    "for myList in lst3:\n",
    "    for i in myList:\n",
    "        print(i)"
   ]
  },
  {
   "cell_type": "code",
   "execution_count": null,
   "id": "7c97d221",
   "metadata": {},
   "outputs": [],
   "source": []
  },
  {
   "cell_type": "code",
   "execution_count": null,
   "id": "3d1cca31",
   "metadata": {},
   "outputs": [],
   "source": [
    "# finding duplicates elements in a list \n",
    "\n",
    "animals = ['cat', 'dog', 'dog', 'guinea pig', 'dog']\n",
    "\n"
   ]
  },
  {
   "cell_type": "code",
   "execution_count": null,
   "id": "da8e20c3",
   "metadata": {},
   "outputs": [],
   "source": []
  },
  {
   "cell_type": "code",
   "execution_count": null,
   "id": "9dadb5d4",
   "metadata": {},
   "outputs": [],
   "source": []
  },
  {
   "cell_type": "code",
   "execution_count": null,
   "id": "2cdd2cf0",
   "metadata": {},
   "outputs": [],
   "source": [
    "lst1 = [1,2]\n",
    "lst2 = [2,3]\n",
    "\n",
    "print(lst1+lst2)"
   ]
  },
  {
   "cell_type": "code",
   "execution_count": null,
   "id": "7b72424e",
   "metadata": {},
   "outputs": [],
   "source": []
  },
  {
   "cell_type": "code",
   "execution_count": null,
   "id": "4d519a9d",
   "metadata": {},
   "outputs": [],
   "source": [
    "lst = ['one', 'two', 'three', 'four', 'five']\n",
    "\n",
    "\n",
    "for ele in lst:\n",
    "    print(ele)\n",
    "    \n",
    "for ele in range(len(lst)):\n",
    "    print(ele)"
   ]
  },
  {
   "cell_type": "code",
   "execution_count": null,
   "id": "dd0fc725",
   "metadata": {},
   "outputs": [],
   "source": []
  },
  {
   "cell_type": "code",
   "execution_count": null,
   "id": "56bf69ee",
   "metadata": {},
   "outputs": [],
   "source": []
  },
  {
   "cell_type": "code",
   "execution_count": null,
   "id": "50149376",
   "metadata": {},
   "outputs": [],
   "source": [
    "\n"
   ]
  },
  {
   "cell_type": "code",
   "execution_count": null,
   "id": "35b2b6bd",
   "metadata": {},
   "outputs": [],
   "source": []
  },
  {
   "cell_type": "code",
   "execution_count": null,
   "id": "167cf0bf",
   "metadata": {},
   "outputs": [],
   "source": []
  },
  {
   "cell_type": "code",
   "execution_count": null,
   "id": "cdf0ceb3",
   "metadata": {},
   "outputs": [],
   "source": [
    "#let's suppose we have a matrix\n",
    "\n",
    "matrix = [\n",
    "    [1, 2, 3, 4],\n",
    "    [5, 6, 7, 8],\n",
    "    [9, 10, 11, 12]\n",
    "]\n",
    "\n",
    "#transpose of a matrix without list comprehension\n",
    "transposed = []\n",
    "for i in range(len(row)):\n",
    "    lst = []\n",
    "    for row in matrix:\n",
    "        lst.append(row[i])\n",
    "    transposed.append(lst)\n",
    "\n",
    "print(transposed)\n"
   ]
  },
  {
   "cell_type": "code",
   "execution_count": null,
   "id": "dbb43f2c",
   "metadata": {},
   "outputs": [],
   "source": [
    "# using list comprehesion\n",
    "\n",
    "t_matrix = [[row[i] for row in matrix] for i in range(len(row))]\n",
    "\n",
    "print(t_matrix)"
   ]
  },
  {
   "cell_type": "code",
   "execution_count": null,
   "id": "12e473a3",
   "metadata": {},
   "outputs": [],
   "source": [
    "[\n",
    " [1, 5, 9], \n",
    " [2, 6, 10], \n",
    " [3, 7, 11],\n",
    " [4, 8, 12]\n",
    "]\n"
   ]
  },
  {
   "cell_type": "code",
   "execution_count": null,
   "id": "5d699021",
   "metadata": {},
   "outputs": [],
   "source": []
  },
  {
   "cell_type": "code",
   "execution_count": null,
   "id": "98a20a5d",
   "metadata": {},
   "outputs": [],
   "source": []
  },
  {
   "cell_type": "code",
   "execution_count": null,
   "id": "da937162",
   "metadata": {},
   "outputs": [],
   "source": [
    "# list index\n",
    "\n",
    "lis = [8,2,3,1,3,3,1,4]  \n",
    "\n",
    "print(lis.index(4)) # prints the index position of the first occurance of the given element."
   ]
  },
  {
   "cell_type": "code",
   "execution_count": null,
   "id": "af1f5a68",
   "metadata": {},
   "outputs": [],
   "source": [
    "print(lis.index(8))  # '8' first occurred at 0th index. Hence 0 will be printed"
   ]
  },
  {
   "cell_type": "code",
   "execution_count": null,
   "id": "e4c4fbac",
   "metadata": {},
   "outputs": [],
   "source": [
    "lis = []\n",
    "for i in range (11):\n",
    "    lis.append(i)\n",
    "print(lis)    "
   ]
  },
  {
   "cell_type": "code",
   "execution_count": null,
   "id": "b07b91d9",
   "metadata": {},
   "outputs": [],
   "source": []
  },
  {
   "cell_type": "code",
   "execution_count": null,
   "id": "a420ddb6",
   "metadata": {},
   "outputs": [],
   "source": [
    "s = {}\n",
    "\n",
    "s.__dir__()\n",
    "\n",
    "\n"
   ]
  },
  {
   "cell_type": "code",
   "execution_count": null,
   "id": "98079961",
   "metadata": {},
   "outputs": [],
   "source": [
    "s.update({'name':'veeksha'})\n",
    "print(s)\n",
    "s.update(set()"
   ]
  },
  {
   "cell_type": "code",
   "execution_count": null,
   "id": "9dde5f2e",
   "metadata": {},
   "outputs": [],
   "source": []
  },
  {
   "cell_type": "code",
   "execution_count": null,
   "id": "ce655403",
   "metadata": {},
   "outputs": [],
   "source": [
    "s1 = set()"
   ]
  },
  {
   "cell_type": "code",
   "execution_count": null,
   "id": "1e1cc9d9",
   "metadata": {},
   "outputs": [],
   "source": []
  },
  {
   "cell_type": "code",
   "execution_count": null,
   "id": "aa9776fe",
   "metadata": {},
   "outputs": [],
   "source": [
    "s1 =()\n",
    "s1.__dir__()"
   ]
  },
  {
   "cell_type": "code",
   "execution_count": null,
   "id": "2bffa444",
   "metadata": {},
   "outputs": [],
   "source": []
  },
  {
   "cell_type": "code",
   "execution_count": null,
   "id": "f767b510",
   "metadata": {},
   "outputs": [],
   "source": []
  },
  {
   "cell_type": "code",
   "execution_count": null,
   "id": "16a141c2",
   "metadata": {},
   "outputs": [],
   "source": [
    "s1. add()\n",
    "s1"
   ]
  },
  {
   "cell_type": "code",
   "execution_count": null,
   "id": "e21da916",
   "metadata": {},
   "outputs": [],
   "source": []
  },
  {
   "cell_type": "code",
   "execution_count": null,
   "id": "e711f124",
   "metadata": {},
   "outputs": [],
   "source": []
  },
  {
   "cell_type": "code",
   "execution_count": null,
   "id": "0c47e8c3",
   "metadata": {},
   "outputs": [],
   "source": [
    "# Adding elements dynamically into a set\n",
    "\n",
    "for i in range (5):\n",
    "    s1.add(i)\n",
    "    \n",
    "print(s1)    "
   ]
  },
  {
   "cell_type": "code",
   "execution_count": null,
   "id": "a7b56402",
   "metadata": {},
   "outputs": [],
   "source": []
  },
  {
   "cell_type": "code",
   "execution_count": null,
   "id": "7ed84273",
   "metadata": {},
   "outputs": [],
   "source": []
  },
  {
   "cell_type": "code",
   "execution_count": null,
   "id": "fbbb5cf7",
   "metadata": {},
   "outputs": [],
   "source": []
  },
  {
   "cell_type": "code",
   "execution_count": null,
   "id": "99393755",
   "metadata": {},
   "outputs": [],
   "source": [
    "# A tuple returns list after sort\n",
    "t = (1000,2000,3000)\n",
    "new_t=sorted(t)\n",
    "\n",
    "print(new_t)"
   ]
  },
  {
   "cell_type": "code",
   "execution_count": null,
   "id": "22a87713",
   "metadata": {},
   "outputs": [],
   "source": [
    "d={1:'hello',2:'hi'}\n",
    "print(d)"
   ]
  },
  {
   "cell_type": "code",
   "execution_count": null,
   "id": "60374c68",
   "metadata": {},
   "outputs": [],
   "source": []
  },
  {
   "cell_type": "code",
   "execution_count": null,
   "id": "96e68d1c",
   "metadata": {},
   "outputs": [],
   "source": []
  },
  {
   "cell_type": "code",
   "execution_count": null,
   "id": "4b670374",
   "metadata": {},
   "outputs": [],
   "source": []
  },
  {
   "cell_type": "code",
   "execution_count": null,
   "id": "a2fde760",
   "metadata": {},
   "outputs": [],
   "source": [
    "s1"
   ]
  },
  {
   "cell_type": "code",
   "execution_count": null,
   "id": "898b5544",
   "metadata": {},
   "outputs": [],
   "source": []
  },
  {
   "cell_type": "code",
   "execution_count": null,
   "id": "d44587b5",
   "metadata": {},
   "outputs": [],
   "source": []
  },
  {
   "cell_type": "code",
   "execution_count": null,
   "id": "3c0bb734",
   "metadata": {},
   "outputs": [],
   "source": [
    "#s1.update([99,100],{55,33},t,d)\n",
    "s1.update(d)\n",
    "#(s1)\n",
    "print(s1)"
   ]
  },
  {
   "cell_type": "code",
   "execution_count": null,
   "id": "a475f200",
   "metadata": {},
   "outputs": [],
   "source": []
  },
  {
   "cell_type": "code",
   "execution_count": null,
   "id": "f0dbb299",
   "metadata": {},
   "outputs": [],
   "source": [
    "s2 =s1.update([2,3],d)\n",
    "print(s2)"
   ]
  },
  {
   "cell_type": "code",
   "execution_count": null,
   "id": "ea1813cb",
   "metadata": {},
   "outputs": [],
   "source": []
  },
  {
   "cell_type": "code",
   "execution_count": null,
   "id": "63745a29",
   "metadata": {},
   "outputs": [],
   "source": [
    "# Removing all elements in a set using clear() method\n",
    "\n",
    "s = {1,3,4,5,8,7,}\n",
    "\n",
    "print(s)"
   ]
  },
  {
   "cell_type": "code",
   "execution_count": null,
   "id": "fb250c7b",
   "metadata": {},
   "outputs": [],
   "source": [
    "s.clear()\n",
    "\n",
    "print(s) #prints an empty set"
   ]
  },
  {
   "cell_type": "code",
   "execution_count": null,
   "id": "39124eb4",
   "metadata": {},
   "outputs": [],
   "source": []
  },
  {
   "cell_type": "code",
   "execution_count": null,
   "id": "de354438",
   "metadata": {},
   "outputs": [],
   "source": [
    "# Removing all elemetns in a list without using clear() method.\n",
    "\n",
    "s = {4,2,3,1,5,6,9}\n",
    "\n",
    "#for e in range(len(s)):\n",
    "\n",
    "while len(s):\n",
    "    s.pop() # pop() removes any random item\n",
    "print(s)        "
   ]
  },
  {
   "cell_type": "code",
   "execution_count": null,
   "id": "27aebe9f",
   "metadata": {},
   "outputs": [],
   "source": []
  },
  {
   "cell_type": "code",
   "execution_count": null,
   "id": "fdbce1bc",
   "metadata": {},
   "outputs": [],
   "source": [
    "# dictionary form keys\n",
    "\n",
    "lis1= ['telugu','tamil']\n",
    "#lis2= [1,2]\n",
    "\n",
    "my_dict = {}.fromkeys(lis1,0)\n",
    "\n",
    "print(my_dict)"
   ]
  },
  {
   "cell_type": "code",
   "execution_count": null,
   "id": "52753151",
   "metadata": {},
   "outputs": [],
   "source": []
  },
  {
   "cell_type": "code",
   "execution_count": null,
   "id": "3a1d7d33",
   "metadata": {},
   "outputs": [],
   "source": [
    "#Creating a new dictionary with only pairs where the value is larger than 2\n",
    "d = {'a': 1, 'b': 2, 'c': 3, 'd': 4}\n",
    "new_dict = {x:y for x, y in d.items() if y > 2}\n",
    "print(new_dict)"
   ]
  },
  {
   "cell_type": "code",
   "execution_count": null,
   "id": "9294cae3",
   "metadata": {},
   "outputs": [],
   "source": []
  },
  {
   "cell_type": "code",
   "execution_count": null,
   "id": "8dca485d",
   "metadata": {},
   "outputs": [],
   "source": []
  },
  {
   "cell_type": "code",
   "execution_count": 4,
   "id": "0d8b5266",
   "metadata": {},
   "outputs": [
    {
     "name": "stdout",
     "output_type": "stream",
     "text": [
      "(0, 2)\n",
      "(1, 7)\n",
      "(2, 11)\n",
      "(3, 15)\n"
     ]
    }
   ],
   "source": [
    "# if you don't know, enumerate creates a counter (index) \n",
    "# and the current value from the loop (number). \n",
    "# It's just another way of creating a for loop with an 'i' variable \n",
    "# in python!\n",
    "\n",
    "lis = [2,7,11,15]\n",
    "\n",
    "for index, number in enumerate(lis):\n",
    "    print((index,number))\n"
   ]
  },
  {
   "cell_type": "code",
   "execution_count": 12,
   "id": "592c2dc8",
   "metadata": {},
   "outputs": [
    {
     "name": "stdout",
     "output_type": "stream",
     "text": [
      "twoSum started...\n"
     ]
    }
   ],
   "source": [
    "\n",
    "def twoSum(nums,target):\n",
    "    print(\"twoSum started...\")\n",
    "    hashtable = {}\n",
    "    for index, number in enumerate(nums):\n",
    "            # Do the math as we described before\n",
    "            remainder = target - number\n",
    "\n",
    "             # If the remainder we're looking for is already in the table...\n",
    "             # return the current index and the index we saved!\n",
    "            if remainder in hashtable:\n",
    "                return[index, hashtable[remainder]]\n",
    "            else:\n",
    "                hashtable[number] = index\n",
    "        \n",
    "        \n",
    "print(hashtable[reminder])\n",
    "\n",
    "\n",
    "def main():\n",
    "    nums = [2,7,11,15]\n",
    "    target = 9\n",
    "    \n",
    "result = twoSum(nums,target)\n",
    "\n",
    "main()\n",
    "    \n",
    "    \n",
    "        "
   ]
  },
  {
   "cell_type": "code",
   "execution_count": null,
   "id": "684a0e73",
   "metadata": {},
   "outputs": [],
   "source": []
  },
  {
   "cell_type": "code",
   "execution_count": null,
   "id": "10b955fd",
   "metadata": {},
   "outputs": [],
   "source": [
    "# Most elegant way\n",
    "\n",
    "def twoSum(self, nums: List[int], target: int) -> List[int]:\n",
    "\tfor i, n in enumerate(nums):\n",
    "\t\tif target - n in nums and i != nums.index(target - n):\n",
    "\t\t\treturn i, nums.index(target - n)"
   ]
  },
  {
   "cell_type": "code",
   "execution_count": 13,
   "id": "4eabd7eb",
   "metadata": {},
   "outputs": [
    {
     "data": {
      "text/plain": [
       "65050.0"
      ]
     },
     "execution_count": 13,
     "metadata": {},
     "output_type": "execute_result"
    }
   ],
   "source": [
    "24025.24+41024.76"
   ]
  },
  {
   "cell_type": "code",
   "execution_count": null,
   "id": "78f2d07b",
   "metadata": {},
   "outputs": [],
   "source": []
  },
  {
   "cell_type": "code",
   "execution_count": null,
   "id": "1cd4b385",
   "metadata": {},
   "outputs": [],
   "source": []
  },
  {
   "cell_type": "code",
   "execution_count": 30,
   "id": "78f0d849",
   "metadata": {},
   "outputs": [
    {
     "name": "stdout",
     "output_type": "stream",
     "text": [
      "3\n",
      "5\n",
      "7\n",
      "9\n"
     ]
    }
   ],
   "source": [
    "# program to get all the odd numbers in a given list\n",
    "\n",
    "lis = [2,3,4,5,6,7,8,9]\n",
    "\n",
    "for num in lis:\n",
    "    if num % 2==0:\n",
    "        continue\n",
    "    print(num)\n",
    "    \n"
   ]
  },
  {
   "cell_type": "code",
   "execution_count": 33,
   "id": "f04931e0",
   "metadata": {},
   "outputs": [
    {
     "data": {
      "text/plain": [
       "[3, 5, 7, 9]"
      ]
     },
     "execution_count": 33,
     "metadata": {},
     "output_type": "execute_result"
    }
   ],
   "source": [
    "#using list comprehension\n",
    "[num for num in lis if num %2 != 0 ]"
   ]
  },
  {
   "cell_type": "code",
   "execution_count": null,
   "id": "531f33aa",
   "metadata": {},
   "outputs": [],
   "source": []
  },
  {
   "cell_type": "code",
   "execution_count": null,
   "id": "5aea2748",
   "metadata": {},
   "outputs": [],
   "source": []
  },
  {
   "cell_type": "code",
   "execution_count": null,
   "id": "25f383fa",
   "metadata": {},
   "outputs": [],
   "source": []
  },
  {
   "cell_type": "code",
   "execution_count": 20,
   "id": "004b8997",
   "metadata": {},
   "outputs": [
    {
     "name": "stdout",
     "output_type": "stream",
     "text": [
      "1\n",
      "3\n",
      "5\n",
      "else-block\n"
     ]
    }
   ],
   "source": [
    "#print odd numbers present in a list\n",
    "numbers = [1, 2, 3, 4, 5]\n",
    "\n",
    "for num in numbers:\n",
    "    if num % 2 == 0:\n",
    "        continue        # continue statement won't allow interpreter to go down and executes the code just below the continue\n",
    "    print(num)          # if continue is not there then we get even number\n",
    "else:\n",
    "    print(\"else-block\")"
   ]
  },
  {
   "cell_type": "code",
   "execution_count": null,
   "id": "c8d3577f",
   "metadata": {},
   "outputs": [],
   "source": []
  },
  {
   "cell_type": "code",
   "execution_count": 43,
   "id": "6b39a878",
   "metadata": {},
   "outputs": [
    {
     "name": "stdout",
     "output_type": "stream",
     "text": [
      "N\n",
      "a\n",
      "v\n",
      "e\n",
      "e\n",
      "n\n",
      "neevaN\n"
     ]
    }
   ],
   "source": [
    "# Python code to reverse a string\n",
    "# using loop\n",
    "\n",
    "def reverse(s):\n",
    "    str = \"\"\n",
    "    for i in s:\n",
    "        print(i)\n",
    "        str = i + str\n",
    "    return str        \n",
    "   \n",
    "s = \"Naveen\"\n",
    "\n",
    "#print (\"The original string is : \",end=\"\")\n",
    "#print (s)\n",
    "\n",
    "#print (\"The reversed string(using loops) is : \",end=\"\")\n",
    "print (reverse(s))\n"
   ]
  },
  {
   "cell_type": "code",
   "execution_count": null,
   "id": "4a688442",
   "metadata": {},
   "outputs": [],
   "source": []
  },
  {
   "cell_type": "code",
   "execution_count": 50,
   "id": "3fd08385",
   "metadata": {},
   "outputs": [
    {
     "name": "stdout",
     "output_type": "stream",
     "text": [
      "The original string is : Naveen\n",
      "The reversed string(using recursion) is : neevaN\n",
      "aveen\n"
     ]
    }
   ],
   "source": [
    "# Python code to reverse a string\n",
    "# using recursion\n",
    "\n",
    "def reverse(s):\n",
    "    if len(s) == 0:\n",
    "        return s\n",
    "    else:\n",
    "        return reverse(s[1:]) + s[0]\n",
    "\n",
    "\n",
    "\n",
    "\n",
    "s = \"Naveen\"\n",
    "\n",
    "print (\"The original string is : \",end=\"\")\n",
    "print (s)\n",
    "\n",
    "print (\"The reversed string(using recursion) is : \",end=\"\")\n",
    "print (reverse(s))\n",
    "\n",
    "print(s[1:])\n"
   ]
  },
  {
   "cell_type": "code",
   "execution_count": null,
   "id": "52f514ed",
   "metadata": {},
   "outputs": [],
   "source": []
  },
  {
   "cell_type": "code",
   "execution_count": 72,
   "id": "50fbad2d",
   "metadata": {},
   "outputs": [
    {
     "name": "stdout",
     "output_type": "stream",
     "text": [
      "2\n"
     ]
    }
   ],
   "source": [
    "# program to find lagest of 3 numbers \n",
    "\n",
    "def largestNum(a,b,c):\n",
    "        #while a != b !=c :\n",
    "            if a <= b and a <= c:\n",
    "                smallest = a\n",
    "                \n",
    "            elif b <= c and b <= a:\n",
    "                smallest = b\n",
    "                \n",
    "            else:\n",
    "                 smallest = c\n",
    "            \n",
    "            return smallest\n",
    "        #else:\n",
    "            #print(\"{0} , {1} and {2} are equal\".format(a,b,c))\n",
    "    \n",
    "a = 2\n",
    "b = 2\n",
    "c = 3\n",
    "l_num = largestNum(a,b,c) \n",
    "print(l_num)\n",
    "   "
   ]
  },
  {
   "cell_type": "code",
   "execution_count": null,
   "id": "da47c727",
   "metadata": {},
   "outputs": [],
   "source": []
  },
  {
   "cell_type": "code",
   "execution_count": 11,
   "id": "870756fb",
   "metadata": {},
   "outputs": [
    {
     "name": "stdout",
     "output_type": "stream",
     "text": [
      "('satish', 'murali', 'naveen', 'srikanth')\n",
      "Hello,  satish \n",
      "Hello,  murali \n",
      "Hello,  naveen \n",
      "Hello,  srikanth \n"
     ]
    }
   ],
   "source": [
    "# Arbitary arguments to a function.\n",
    "def greet(*names):\n",
    "    \"\"\"\n",
    "    This function greets all persons in the names tuple \n",
    "    \"\"\"\n",
    "    print(names)\n",
    "    \n",
    "    for name in names:\n",
    "        print(\"Hello,  {0} \".format(name))\n",
    "\n",
    "greet(\"satish\", \"murali\", \"naveen\", \"srikanth\")\n",
    "\n",
    "#print(greet.__doc__)"
   ]
  },
  {
   "cell_type": "code",
   "execution_count": null,
   "id": "c0cee077",
   "metadata": {},
   "outputs": [],
   "source": []
  },
  {
   "cell_type": "code",
   "execution_count": null,
   "id": "c709b2dd",
   "metadata": {},
   "outputs": [],
   "source": []
  },
  {
   "cell_type": "code",
   "execution_count": 18,
   "id": "f7dda0b8",
   "metadata": {},
   "outputs": [
    {
     "name": "stdout",
     "output_type": "stream",
     "text": [
      "Hello,  satish \n",
      "Hello,  murali \n",
      "Hello,  naveen \n",
      "Hello,  srikanth \n"
     ]
    }
   ],
   "source": [
    "# Using for loop (traditional way)\n",
    "names = (\"satish\", \"murali\", \"naveen\", \"srikanth\")\n",
    "\n",
    "for name in names:\n",
    "    print(\"Hello,  {0} \".format(name))"
   ]
  },
  {
   "cell_type": "code",
   "execution_count": null,
   "id": "d9c8c06d",
   "metadata": {},
   "outputs": [],
   "source": []
  },
  {
   "cell_type": "code",
   "execution_count": 3,
   "id": "0b486cf5",
   "metadata": {},
   "outputs": [],
   "source": [
    "b = [1,2,3]"
   ]
  },
  {
   "cell_type": "code",
   "execution_count": 5,
   "id": "3ac33ef3",
   "metadata": {},
   "outputs": [],
   "source": [
    "b?  #to display some general information about the above object 'b'"
   ]
  },
  {
   "cell_type": "code",
   "execution_count": 7,
   "id": "e73b518d",
   "metadata": {},
   "outputs": [],
   "source": [
    "?b #to display some general information about the above object 'b'"
   ]
  },
  {
   "cell_type": "code",
   "execution_count": 8,
   "id": "82e2272e",
   "metadata": {},
   "outputs": [],
   "source": [
    "print?"
   ]
  },
  {
   "cell_type": "code",
   "execution_count": 9,
   "id": "6a6ec23e",
   "metadata": {},
   "outputs": [],
   "source": [
    "?print"
   ]
  },
  {
   "cell_type": "code",
   "execution_count": 26,
   "id": "6dfa689a",
   "metadata": {},
   "outputs": [],
   "source": [
    "# prints general information about the function\n",
    "greet?"
   ]
  },
  {
   "cell_type": "code",
   "execution_count": 28,
   "id": "26b5df35",
   "metadata": {},
   "outputs": [],
   "source": [
    "# prints general info and source code of the function\n",
    "greet??"
   ]
  },
  {
   "cell_type": "code",
   "execution_count": null,
   "id": "d3f9f1ba",
   "metadata": {},
   "outputs": [],
   "source": []
  },
  {
   "cell_type": "code",
   "execution_count": null,
   "id": "b87ad9bc",
   "metadata": {},
   "outputs": [],
   "source": []
  }
 ],
 "metadata": {
  "kernelspec": {
   "display_name": "Python 3",
   "language": "python",
   "name": "python3"
  },
  "language_info": {
   "codemirror_mode": {
    "name": "ipython",
    "version": 3
   },
   "file_extension": ".py",
   "mimetype": "text/x-python",
   "name": "python",
   "nbconvert_exporter": "python",
   "pygments_lexer": "ipython3",
   "version": "3.6.13"
  }
 },
 "nbformat": 4,
 "nbformat_minor": 5
}
